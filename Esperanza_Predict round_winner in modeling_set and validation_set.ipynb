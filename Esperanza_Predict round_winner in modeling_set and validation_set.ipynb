{
 "cells": [
  {
   "cell_type": "markdown",
   "metadata": {},
   "source": [
    "# Predicting round_winner in modeling_set and validation_set"
   ]
  },
  {
   "cell_type": "markdown",
   "metadata": {},
   "source": [
    "### Notebook automatically generated from your model"
   ]
  },
  {
   "cell_type": "markdown",
   "metadata": {},
   "source": [
    "Model XGBoost, trained on 2020-09-27 10:49:49."
   ]
  },
  {
   "cell_type": "markdown",
   "metadata": {},
   "source": [
    "#### Generated on 2020-09-27 13:46:40.755215"
   ]
  },
  {
   "cell_type": "markdown",
   "metadata": {},
   "source": [
    "prediction\n",
    "This notebook will reproduce the steps for a BINARY_CLASSIFICATION on  modeling_set.\n",
    "The main objective is to predict the variable round_winner"
   ]
  },
  {
   "cell_type": "markdown",
   "metadata": {},
   "source": [
    "#### Warning"
   ]
  },
  {
   "cell_type": "markdown",
   "metadata": {},
   "source": [
    "The goal of this notebook is to provide an easily readable and explainable code that reproduces the main steps\n",
    "of training the model. It is not complete: some of the preprocessing done by the DSS visual machine learning is not\n",
    "replicated in this notebook. This notebook will not give the same results and model performance as the DSS visual machine\n",
    "learning model."
   ]
  },
  {
   "cell_type": "markdown",
   "metadata": {},
   "source": [
    "Let's start with importing the required libs :"
   ]
  },
  {
   "cell_type": "code",
   "execution_count": null,
   "metadata": {},
   "outputs": [],
   "source": [
    "import sys\n",
    "import dataiku\n",
    "import numpy as np\n",
    "import pandas as pd\n",
    "import sklearn as sk\n",
    "import dataiku.core.pandasutils as pdu\n",
    "from dataiku.doctor.preprocessing import PCA\n",
    "from collections import defaultdict, Counter"
   ]
  },
  {
   "cell_type": "markdown",
   "metadata": {},
   "source": [
    "And tune pandas display options:"
   ]
  },
  {
   "cell_type": "code",
   "execution_count": null,
   "metadata": {},
   "outputs": [],
   "source": [
    "pd.set_option('display.width', 3000)\n",
    "pd.set_option('display.max_rows', 200)\n",
    "pd.set_option('display.max_columns', 200)"
   ]
  },
  {
   "cell_type": "markdown",
   "metadata": {},
   "source": [
    "#### Importing base data"
   ]
  },
  {
   "cell_type": "markdown",
   "metadata": {},
   "source": [
    "The first step is to get our machine learning dataset:"
   ]
  },
  {
   "cell_type": "code",
   "execution_count": null,
   "metadata": {},
   "outputs": [],
   "source": [
    "# We apply the preparation that you defined. You should not modify this.\n",
    "preparation_steps = []\n",
    "preparation_output_schema = {u'userModified': False, u'columns': [{u'type': u'double', u'name': u'time_left'}, {u'type': u'double', u'name': u'ct_score'}, {u'type': u'double', u'name': u't_score'}, {u'type': u'string', u'name': u'map'}, {u'type': u'boolean', u'name': u'bomb_planted'}, {u'type': u'double', u'name': u'ct_health'}, {u'type': u'double', u'name': u't_health'}, {u'type': u'double', u'name': u'ct_armor'}, {u'type': u'double', u'name': u't_armor'}, {u'type': u'double', u'name': u'ct_money'}, {u'type': u'double', u'name': u't_money'}, {u'type': u'double', u'name': u'ct_helmets'}, {u'type': u'double', u'name': u't_helmets'}, {u'type': u'double', u'name': u'ct_defuse_kits'}, {u'type': u'double', u'name': u'ct_players_alive'}, {u'type': u'double', u'name': u't_players_alive'}, {u'type': u'double', u'name': u'ct_weapon_ak47'}, {u'type': u'double', u'name': u't_weapon_ak47'}, {u'type': u'double', u'name': u'ct_weapon_aug'}, {u'type': u'double', u'name': u't_weapon_aug'}, {u'type': u'double', u'name': u'ct_weapon_awp'}, {u'type': u'double', u'name': u't_weapon_awp'}, {u'type': u'double', u'name': u'ct_weapon_bizon'}, {u'type': u'double', u'name': u't_weapon_bizon'}, {u'type': u'double', u'name': u'ct_weapon_cz75auto'}, {u'type': u'double', u'name': u't_weapon_cz75auto'}, {u'type': u'double', u'name': u'ct_weapon_elite'}, {u'type': u'double', u'name': u't_weapon_elite'}, {u'type': u'double', u'name': u'ct_weapon_famas'}, {u'type': u'double', u'name': u't_weapon_famas'}, {u'type': u'double', u'name': u'ct_weapon_g3sg1'}, {u'type': u'double', u'name': u't_weapon_g3sg1'}, {u'type': u'double', u'name': u'ct_weapon_galilar'}, {u'type': u'double', u'name': u't_weapon_galilar'}, {u'type': u'double', u'name': u'ct_weapon_glock'}, {u'type': u'double', u'name': u't_weapon_glock'}, {u'type': u'double', u'name': u'ct_weapon_m249'}, {u'type': u'double', u'name': u't_weapon_m249'}, {u'type': u'double', u'name': u'ct_weapon_m4a1s'}, {u'type': u'double', u'name': u't_weapon_m4a1s'}, {u'type': u'double', u'name': u'ct_weapon_m4a4'}, {u'type': u'double', u'name': u't_weapon_m4a4'}, {u'type': u'double', u'name': u'ct_weapon_mac10'}, {u'type': u'double', u'name': u't_weapon_mac10'}, {u'type': u'double', u'name': u'ct_weapon_mag7'}, {u'type': u'double', u'name': u't_weapon_mag7'}, {u'type': u'double', u'name': u'ct_weapon_mp5sd'}, {u'type': u'double', u'name': u't_weapon_mp5sd'}, {u'type': u'double', u'name': u'ct_weapon_mp7'}, {u'type': u'double', u'name': u't_weapon_mp7'}, {u'type': u'double', u'name': u'ct_weapon_mp9'}, {u'type': u'double', u'name': u't_weapon_mp9'}, {u'type': u'double', u'name': u'ct_weapon_negev'}, {u'type': u'double', u'name': u't_weapon_negev'}, {u'type': u'double', u'name': u'ct_weapon_nova'}, {u'type': u'double', u'name': u't_weapon_nova'}, {u'type': u'double', u'name': u'ct_weapon_p90'}, {u'type': u'double', u'name': u't_weapon_p90'}, {u'type': u'double', u'name': u'ct_weapon_r8revolver'}, {u'type': u'double', u'name': u't_weapon_r8revolver'}, {u'type': u'double', u'name': u'ct_weapon_sawedoff'}, {u'type': u'double', u'name': u't_weapon_sawedoff'}, {u'type': u'double', u'name': u'ct_weapon_scar20'}, {u'type': u'double', u'name': u't_weapon_scar20'}, {u'type': u'double', u'name': u'ct_weapon_sg553'}, {u'type': u'double', u'name': u't_weapon_sg553'}, {u'type': u'double', u'name': u'ct_weapon_ssg08'}, {u'type': u'double', u'name': u't_weapon_ssg08'}, {u'type': u'double', u'name': u'ct_weapon_ump45'}, {u'type': u'double', u'name': u't_weapon_ump45'}, {u'type': u'double', u'name': u'ct_weapon_xm1014'}, {u'type': u'double', u'name': u't_weapon_xm1014'}, {u'type': u'double', u'name': u'ct_weapon_deagle'}, {u'type': u'double', u'name': u't_weapon_deagle'}, {u'type': u'double', u'name': u'ct_weapon_fiveseven'}, {u'type': u'double', u'name': u't_weapon_fiveseven'}, {u'type': u'double', u'name': u'ct_weapon_usps'}, {u'type': u'double', u'name': u't_weapon_usps'}, {u'type': u'double', u'name': u'ct_weapon_p250'}, {u'type': u'double', u'name': u't_weapon_p250'}, {u'type': u'double', u'name': u'ct_weapon_p2000'}, {u'type': u'double', u'name': u't_weapon_p2000'}, {u'type': u'double', u'name': u'ct_weapon_tec9'}, {u'type': u'double', u'name': u't_weapon_tec9'}, {u'type': u'double', u'name': u'ct_grenade_hegrenade'}, {u'type': u'double', u'name': u't_grenade_hegrenade'}, {u'type': u'double', u'name': u'ct_grenade_flashbang'}, {u'type': u'double', u'name': u't_grenade_flashbang'}, {u'type': u'double', u'name': u'ct_grenade_smokegrenade'}, {u'type': u'double', u'name': u't_grenade_smokegrenade'}, {u'type': u'double', u'name': u'ct_grenade_incendiarygrenade'}, {u'type': u'double', u'name': u't_grenade_incendiarygrenade'}, {u'type': u'double', u'name': u'ct_grenade_molotovgrenade'}, {u'type': u'double', u'name': u't_grenade_molotovgrenade'}, {u'type': u'double', u'name': u'ct_grenade_decoygrenade'}, {u'type': u'double', u'name': u't_grenade_decoygrenade'}, {u'downcastedToStringFromMeaning': u'Boolean', u'type': u'string', u'name': u'round_winner'}]}\n",
    "\n",
    "ml_dataset_handle = dataiku.Dataset('modeling_set')\n",
    "ml_dataset_handle.set_preparation_steps(preparation_steps, preparation_output_schema)\n",
    "%time ml_dataset = ml_dataset_handle.get_dataframe(limit = 100000)\n",
    "\n",
    "print ('Base data has %i rows and %i columns' % (ml_dataset.shape[0], ml_dataset.shape[1]))\n",
    "# Five first records\",\n",
    "ml_dataset.head(5)"
   ]
  },
  {
   "cell_type": "markdown",
   "metadata": {},
   "source": [
    "#### Initial data management"
   ]
  },
  {
   "cell_type": "markdown",
   "metadata": {},
   "source": [
    "The preprocessing aims at making the dataset compatible with modeling.\n",
    "At the end of this step, we will have a matrix of float numbers, with no missing values.\n",
    "We'll use the features and the preprocessing steps defined in Models.\n",
    "\n",
    "Let's only keep selected features"
   ]
  },
  {
   "cell_type": "code",
   "execution_count": null,
   "metadata": {},
   "outputs": [],
   "source": [
    "ml_dataset = ml_dataset[[u't_weapon_mp7', u't_weapon_ump45', u'ct_score', u'ct_weapon_nova', u't_weapon_mp9', u't_grenade_incendiarygrenade', u'ct_weapon_ak47', u'ct_grenade_incendiarygrenade', u't_players_alive', u't_weapon_m4a1s', u'ct_weapon_ump45', u't_weapon_elite', u'ct_weapon_fiveseven', u't_grenade_smokegrenade', u'ct_weapon_mac10', u't_weapon_usps', u'ct_players_alive', u'bomb_planted', u't_weapon_p2000', u'ct_weapon_ssg08', u't_weapon_sawedoff', u'ct_weapon_p2000', u'round_winner', u'map', u't_weapon_m4a4', u'ct_weapon_aug', u't_weapon_mac10', u'ct_weapon_galilar', u't_health', u't_weapon_p250', u'ct_weapon_famas', u'ct_weapon_mag7', u't_weapon_glock', u'ct_weapon_p250', u't_weapon_nova', u'ct_weapon_scar20', u't_weapon_ak47', u'ct_weapon_mp5sd', u't_weapon_tec9', u'ct_grenade_smokegrenade', u'ct_money', u'ct_grenade_hegrenade', u't_weapon_aug', u't_weapon_ssg08', u't_weapon_xm1014', u'ct_weapon_elite', u'ct_weapon_sg553', u'time_left', u't_grenade_decoygrenade', u'ct_weapon_awp', u'ct_weapon_xm1014', u'ct_grenade_flashbang', u't_weapon_cz75auto', u't_weapon_fiveseven', u't_weapon_famas', u'ct_weapon_m249', u'ct_grenade_molotovgrenade', u'ct_health', u't_grenade_flashbang', u't_grenade_molotovgrenade', u't_money', u't_weapon_awp', u'ct_weapon_tec9', u'ct_grenade_decoygrenade', u'ct_defuse_kits', u'ct_weapon_usps', u't_armor', u't_weapon_bizon', u'ct_weapon_deagle', u't_score', u't_weapon_mp5sd', u'ct_weapon_m4a1s', u't_weapon_sg553', u'ct_armor', u't_weapon_g3sg1', u'ct_weapon_m4a4', u't_helmets', u't_weapon_deagle', u't_weapon_galilar', u'ct_weapon_cz75auto', u'ct_weapon_mp9', u'ct_helmets', u't_weapon_p90', u't_grenade_hegrenade', u'ct_weapon_mp7', u'ct_weapon_glock']]"
   ]
  },
  {
   "cell_type": "markdown",
   "metadata": {},
   "source": [
    "Let's first coerce categorical columns into unicode, numerical features into floats."
   ]
  },
  {
   "cell_type": "code",
   "execution_count": null,
   "metadata": {},
   "outputs": [],
   "source": [
    "# astype('unicode') does not work as expected\n",
    "\n",
    "def coerce_to_unicode(x):\n",
    "    if sys.version_info < (3, 0):\n",
    "        if isinstance(x, str):\n",
    "            return unicode(x,'utf-8')\n",
    "        else:\n",
    "            return unicode(x)\n",
    "    else:\n",
    "        return str(x)\n",
    "\n",
    "\n",
    "categorical_features = [u'bomb_planted', u'map']\n",
    "numerical_features = [u't_weapon_mp7', u't_weapon_ump45', u'ct_score', u'ct_weapon_nova', u't_weapon_mp9', u't_grenade_incendiarygrenade', u'ct_weapon_ak47', u'ct_grenade_incendiarygrenade', u't_players_alive', u't_weapon_m4a1s', u'ct_weapon_ump45', u't_weapon_elite', u'ct_weapon_fiveseven', u't_grenade_smokegrenade', u'ct_weapon_mac10', u't_weapon_usps', u'ct_players_alive', u't_weapon_p2000', u'ct_weapon_ssg08', u't_weapon_sawedoff', u'ct_weapon_p2000', u't_weapon_m4a4', u'ct_weapon_aug', u't_weapon_mac10', u'ct_weapon_galilar', u't_health', u't_weapon_p250', u'ct_weapon_famas', u'ct_weapon_mag7', u't_weapon_glock', u'ct_weapon_p250', u't_weapon_nova', u'ct_weapon_scar20', u't_weapon_ak47', u'ct_weapon_mp5sd', u't_weapon_tec9', u'ct_grenade_smokegrenade', u'ct_money', u'ct_grenade_hegrenade', u't_weapon_aug', u't_weapon_ssg08', u't_weapon_xm1014', u'ct_weapon_elite', u'ct_weapon_sg553', u'time_left', u't_grenade_decoygrenade', u'ct_weapon_awp', u'ct_weapon_xm1014', u'ct_grenade_flashbang', u't_weapon_cz75auto', u't_weapon_fiveseven', u't_weapon_famas', u'ct_weapon_m249', u'ct_grenade_molotovgrenade', u'ct_health', u't_grenade_flashbang', u't_grenade_molotovgrenade', u't_money', u't_weapon_awp', u'ct_weapon_tec9', u'ct_grenade_decoygrenade', u'ct_defuse_kits', u'ct_weapon_usps', u't_armor', u't_weapon_bizon', u'ct_weapon_deagle', u't_score', u't_weapon_mp5sd', u'ct_weapon_m4a1s', u't_weapon_sg553', u'ct_armor', u't_weapon_g3sg1', u'ct_weapon_m4a4', u't_helmets', u't_weapon_deagle', u't_weapon_galilar', u'ct_weapon_cz75auto', u'ct_weapon_mp9', u'ct_helmets', u't_weapon_p90', u't_grenade_hegrenade', u'ct_weapon_mp7', u'ct_weapon_glock']\n",
    "text_features = []\n",
    "from dataiku.doctor.utils import datetime_to_epoch\n",
    "for feature in categorical_features:\n",
    "    ml_dataset[feature] = ml_dataset[feature].apply(coerce_to_unicode)\n",
    "for feature in text_features:\n",
    "    ml_dataset[feature] = ml_dataset[feature].apply(coerce_to_unicode)\n",
    "for feature in numerical_features:\n",
    "    if ml_dataset[feature].dtype == np.dtype('M8[ns]'):\n",
    "        ml_dataset[feature] = datetime_to_epoch(ml_dataset[feature])\n",
    "    else:\n",
    "        ml_dataset[feature] = ml_dataset[feature].astype('double')"
   ]
  },
  {
   "cell_type": "markdown",
   "metadata": {},
   "source": [
    "We are now going to handle the target variable and store it in a new variable:"
   ]
  },
  {
   "cell_type": "code",
   "execution_count": null,
   "metadata": {},
   "outputs": [],
   "source": [
    "target_map = {u'T': 0, u'CT': 1}\n",
    "ml_dataset['__target__'] = ml_dataset['round_winner'].map(str).map(target_map)\n",
    "del ml_dataset['round_winner']\n",
    "\n",
    "\n",
    "# Remove rows for which the target is unknown.\n",
    "ml_dataset = ml_dataset[~ml_dataset['__target__'].isnull()]"
   ]
  },
  {
   "cell_type": "markdown",
   "metadata": {},
   "source": [
    "#### Cross-validation strategy"
   ]
  },
  {
   "cell_type": "markdown",
   "metadata": {},
   "source": [
    "The dataset needs to be split into 2 new sets, one that will be used for training the model (train set)\n",
    "and another that will be used to test its generalization capability (test set)"
   ]
  },
  {
   "cell_type": "markdown",
   "metadata": {},
   "source": [
    "Important note: your model used a more advanced cross-validation strategy.\n",
    "For the purpose of this notebook, it has been simplified to a random split of\n",
    "a single dataset"
   ]
  },
  {
   "cell_type": "code",
   "execution_count": null,
   "metadata": {},
   "outputs": [],
   "source": [
    "train, test = pdu.split_train_valid(ml_dataset, prop=0.8)\n",
    "print ('Train data has %i rows and %i columns' % (train.shape[0], train.shape[1]))\n",
    "print ('Test data has %i rows and %i columns' % (test.shape[0], test.shape[1]))"
   ]
  },
  {
   "cell_type": "markdown",
   "metadata": {},
   "source": [
    "#### Features preprocessing"
   ]
  },
  {
   "cell_type": "markdown",
   "metadata": {},
   "source": [
    "The first thing to do at the features level is to handle the missing values.\n",
    "Let's reuse the settings defined in the model"
   ]
  },
  {
   "cell_type": "code",
   "execution_count": null,
   "metadata": {},
   "outputs": [],
   "source": [
    "drop_rows_when_missing = []\n",
    "impute_when_missing = [{'impute_with': u'MEAN', 'feature': u't_weapon_mp7'}, {'impute_with': u'MEAN', 'feature': u't_weapon_ump45'}, {'impute_with': u'MEAN', 'feature': u'ct_score'}, {'impute_with': u'MEAN', 'feature': u'ct_weapon_nova'}, {'impute_with': u'MEAN', 'feature': u't_weapon_mp9'}, {'impute_with': u'MEAN', 'feature': u't_grenade_incendiarygrenade'}, {'impute_with': u'MEAN', 'feature': u'ct_weapon_ak47'}, {'impute_with': u'MEAN', 'feature': u'ct_grenade_incendiarygrenade'}, {'impute_with': u'MEAN', 'feature': u't_players_alive'}, {'impute_with': u'MEAN', 'feature': u't_weapon_m4a1s'}, {'impute_with': u'MEAN', 'feature': u'ct_weapon_ump45'}, {'impute_with': u'MEAN', 'feature': u't_weapon_elite'}, {'impute_with': u'MEAN', 'feature': u'ct_weapon_fiveseven'}, {'impute_with': u'MEAN', 'feature': u't_grenade_smokegrenade'}, {'impute_with': u'MEAN', 'feature': u'ct_weapon_mac10'}, {'impute_with': u'MEAN', 'feature': u't_weapon_usps'}, {'impute_with': u'MEAN', 'feature': u'ct_players_alive'}, {'impute_with': u'MEAN', 'feature': u't_weapon_p2000'}, {'impute_with': u'MEAN', 'feature': u'ct_weapon_ssg08'}, {'impute_with': u'MEAN', 'feature': u't_weapon_sawedoff'}, {'impute_with': u'MEAN', 'feature': u'ct_weapon_p2000'}, {'impute_with': u'MEAN', 'feature': u't_weapon_m4a4'}, {'impute_with': u'MEAN', 'feature': u'ct_weapon_aug'}, {'impute_with': u'MEAN', 'feature': u't_weapon_mac10'}, {'impute_with': u'MEAN', 'feature': u'ct_weapon_galilar'}, {'impute_with': u'MEAN', 'feature': u't_health'}, {'impute_with': u'MEAN', 'feature': u't_weapon_p250'}, {'impute_with': u'MEAN', 'feature': u'ct_weapon_famas'}, {'impute_with': u'MEAN', 'feature': u'ct_weapon_mag7'}, {'impute_with': u'MEAN', 'feature': u't_weapon_glock'}, {'impute_with': u'MEAN', 'feature': u'ct_weapon_p250'}, {'impute_with': u'MEAN', 'feature': u't_weapon_nova'}, {'impute_with': u'MEAN', 'feature': u'ct_weapon_scar20'}, {'impute_with': u'MEAN', 'feature': u't_weapon_ak47'}, {'impute_with': u'MEAN', 'feature': u'ct_weapon_mp5sd'}, {'impute_with': u'MEAN', 'feature': u't_weapon_tec9'}, {'impute_with': u'MEAN', 'feature': u'ct_grenade_smokegrenade'}, {'impute_with': u'MEAN', 'feature': u'ct_money'}, {'impute_with': u'MEAN', 'feature': u'ct_grenade_hegrenade'}, {'impute_with': u'MEAN', 'feature': u't_weapon_aug'}, {'impute_with': u'MEAN', 'feature': u't_weapon_ssg08'}, {'impute_with': u'MEAN', 'feature': u't_weapon_xm1014'}, {'impute_with': u'MEAN', 'feature': u'ct_weapon_elite'}, {'impute_with': u'MEAN', 'feature': u'ct_weapon_sg553'}, {'impute_with': u'MEAN', 'feature': u'time_left'}, {'impute_with': u'MEAN', 'feature': u't_grenade_decoygrenade'}, {'impute_with': u'MEAN', 'feature': u'ct_weapon_awp'}, {'impute_with': u'MEAN', 'feature': u'ct_weapon_xm1014'}, {'impute_with': u'MEAN', 'feature': u'ct_grenade_flashbang'}, {'impute_with': u'MEAN', 'feature': u't_weapon_cz75auto'}, {'impute_with': u'MEAN', 'feature': u't_weapon_fiveseven'}, {'impute_with': u'MEAN', 'feature': u't_weapon_famas'}, {'impute_with': u'MEAN', 'feature': u'ct_weapon_m249'}, {'impute_with': u'MEAN', 'feature': u'ct_grenade_molotovgrenade'}, {'impute_with': u'MEAN', 'feature': u'ct_health'}, {'impute_with': u'MEAN', 'feature': u't_grenade_flashbang'}, {'impute_with': u'MEAN', 'feature': u't_grenade_molotovgrenade'}, {'impute_with': u'MEAN', 'feature': u't_money'}, {'impute_with': u'MEAN', 'feature': u't_weapon_awp'}, {'impute_with': u'MEAN', 'feature': u'ct_weapon_tec9'}, {'impute_with': u'MEAN', 'feature': u'ct_grenade_decoygrenade'}, {'impute_with': u'MEAN', 'feature': u'ct_defuse_kits'}, {'impute_with': u'MEAN', 'feature': u'ct_weapon_usps'}, {'impute_with': u'MEAN', 'feature': u't_armor'}, {'impute_with': u'MEAN', 'feature': u't_weapon_bizon'}, {'impute_with': u'MEAN', 'feature': u'ct_weapon_deagle'}, {'impute_with': u'MEAN', 'feature': u't_score'}, {'impute_with': u'MEAN', 'feature': u't_weapon_mp5sd'}, {'impute_with': u'MEAN', 'feature': u'ct_weapon_m4a1s'}, {'impute_with': u'MEAN', 'feature': u't_weapon_sg553'}, {'impute_with': u'MEAN', 'feature': u'ct_armor'}, {'impute_with': u'MEAN', 'feature': u't_weapon_g3sg1'}, {'impute_with': u'MEAN', 'feature': u'ct_weapon_m4a4'}, {'impute_with': u'MEAN', 'feature': u't_helmets'}, {'impute_with': u'MEAN', 'feature': u't_weapon_deagle'}, {'impute_with': u'MEAN', 'feature': u't_weapon_galilar'}, {'impute_with': u'MEAN', 'feature': u'ct_weapon_cz75auto'}, {'impute_with': u'MEAN', 'feature': u'ct_weapon_mp9'}, {'impute_with': u'MEAN', 'feature': u'ct_helmets'}, {'impute_with': u'MEAN', 'feature': u't_weapon_p90'}, {'impute_with': u'MEAN', 'feature': u't_grenade_hegrenade'}, {'impute_with': u'MEAN', 'feature': u'ct_weapon_mp7'}, {'impute_with': u'MEAN', 'feature': u'ct_weapon_glock'}]\n",
    "\n",
    "# Features for which we drop rows with missing values\"\n",
    "for feature in drop_rows_when_missing:\n",
    "    train = train[train[feature].notnull()]\n",
    "    test = test[test[feature].notnull()]\n",
    "    print ('Dropped missing records in %s' % feature)\n",
    "\n",
    "# Features for which we impute missing values\"\n",
    "for feature in impute_when_missing:\n",
    "    if feature['impute_with'] == 'MEAN':\n",
    "        v = train[feature['feature']].mean()\n",
    "    elif feature['impute_with'] == 'MEDIAN':\n",
    "        v = train[feature['feature']].median()\n",
    "    elif feature['impute_with'] == 'CREATE_CATEGORY':\n",
    "        v = 'NULL_CATEGORY'\n",
    "    elif feature['impute_with'] == 'MODE':\n",
    "        v = train[feature['feature']].value_counts().index[0]\n",
    "    elif feature['impute_with'] == 'CONSTANT':\n",
    "        v = feature['value']\n",
    "    train[feature['feature']] = train[feature['feature']].fillna(v)\n",
    "    test[feature['feature']] = test[feature['feature']].fillna(v)\n",
    "    print ('Imputed missing values in feature %s with value %s' % (feature['feature'], coerce_to_unicode(v)))"
   ]
  },
  {
   "cell_type": "markdown",
   "metadata": {},
   "source": [
    "We can now handle the categorical features (still using the settings defined in Models):"
   ]
  },
  {
   "cell_type": "markdown",
   "metadata": {},
   "source": [
    "Let's dummy-encode the following features.\n",
    "A binary column is created for each of the 100 most frequent values."
   ]
  },
  {
   "cell_type": "code",
   "execution_count": null,
   "metadata": {},
   "outputs": [],
   "source": [
    "LIMIT_DUMMIES = 100\n",
    "\n",
    "categorical_to_dummy_encode = [u'bomb_planted', u'map']\n",
    "\n",
    "# Only keep the top 100 values\n",
    "def select_dummy_values(train, features):\n",
    "    dummy_values = {}\n",
    "    for feature in categorical_to_dummy_encode:\n",
    "        values = [\n",
    "            value\n",
    "            for (value, _) in Counter(train[feature]).most_common(LIMIT_DUMMIES)\n",
    "        ]\n",
    "        dummy_values[feature] = values\n",
    "    return dummy_values\n",
    "\n",
    "DUMMY_VALUES = select_dummy_values(train, categorical_to_dummy_encode)\n",
    "\n",
    "def dummy_encode_dataframe(df):\n",
    "    for (feature, dummy_values) in DUMMY_VALUES.items():\n",
    "        for dummy_value in dummy_values:\n",
    "            dummy_name = u'%s_value_%s' % (feature, coerce_to_unicode(dummy_value))\n",
    "            df[dummy_name] = (df[feature] == dummy_value).astype(float)\n",
    "        del df[feature]\n",
    "        print ('Dummy-encoded feature %s' % feature)\n",
    "\n",
    "dummy_encode_dataframe(train)\n",
    "\n",
    "dummy_encode_dataframe(test)"
   ]
  },
  {
   "cell_type": "markdown",
   "metadata": {},
   "source": [
    "Let's rescale numerical features"
   ]
  },
  {
   "cell_type": "code",
   "execution_count": null,
   "metadata": {},
   "outputs": [],
   "source": [
    "rescale_features = {u't_weapon_mp7': u'AVGSTD', u'ct_weapon_sg553': u'AVGSTD', u't_weapon_ump45': u'AVGSTD', u'ct_score': u'AVGSTD', u'ct_weapon_nova': u'AVGSTD', u'ct_weapon_tec9': u'AVGSTD', u't_weapon_m4a4': u'AVGSTD', u't_weapon_xm1014': u'AVGSTD', u'ct_weapon_aug': u'AVGSTD', u't_weapon_mp9': u'AVGSTD', u'ct_armor': u'AVGSTD', u'ct_weapon_awp': u'AVGSTD', u'ct_weapon_usps': u'AVGSTD', u'ct_weapon_mp7': u'AVGSTD', u't_grenade_flashbang': u'AVGSTD', u't_armor': u'AVGSTD', u't_weapon_bizon': u'AVGSTD', u'ct_weapon_galilar': u'AVGSTD', u'ct_weapon_deagle': u'AVGSTD', u't_score': u'AVGSTD', u't_weapon_awp': u'AVGSTD', u'ct_weapon_ak47': u'AVGSTD', u'ct_grenade_incendiarygrenade': u'AVGSTD', u't_health': u'AVGSTD', u't_grenade_decoygrenade': u'AVGSTD', u'ct_grenade_flashbang': u'AVGSTD', u'ct_grenade_decoygrenade': u'AVGSTD', u't_weapon_cz75auto': u'AVGSTD', u't_weapon_famas': u'AVGSTD', u'ct_weapon_mp9': u'AVGSTD', u't_weapon_p250': u'AVGSTD', u'ct_weapon_famas': u'AVGSTD', u't_money': u'AVGSTD', u'ct_weapon_scar20': u'AVGSTD', u't_players_alive': u'AVGSTD', u't_weapon_fiveseven': u'AVGSTD', u't_weapon_m4a1s': u'AVGSTD', u'ct_weapon_ump45': u'AVGSTD', u'ct_weapon_m4a4': u'AVGSTD', u'ct_weapon_mag7': u'AVGSTD', u'ct_weapon_xm1014': u'AVGSTD', u'ct_weapon_m249': u'AVGSTD', u't_weapon_elite': u'AVGSTD', u't_weapon_glock': u'AVGSTD', u'ct_health': u'AVGSTD', u'ct_weapon_p250': u'AVGSTD', u'ct_weapon_fiveseven': u'AVGSTD', u't_helmets': u'AVGSTD', u't_grenade_smokegrenade': u'AVGSTD', u'ct_weapon_mac10': u'AVGSTD', u'time_left': u'AVGSTD', u't_weapon_usps': u'AVGSTD', u't_weapon_nova': u'AVGSTD', u'ct_players_alive': u'AVGSTD', u't_weapon_deagle': u'AVGSTD', u't_grenade_molotovgrenade': u'AVGSTD', u'ct_weapon_m4a1s': u'AVGSTD', u't_weapon_galilar': u'AVGSTD', u't_weapon_mac10': u'AVGSTD', u't_weapon_p2000': u'AVGSTD', u'ct_weapon_ssg08': u'AVGSTD', u't_weapon_ak47': u'AVGSTD', u't_grenade_incendiarygrenade': u'AVGSTD', u'ct_weapon_mp5sd': u'AVGSTD', u'ct_weapon_glock': u'AVGSTD', u'ct_grenade_molotovgrenade': u'AVGSTD', u'ct_defuse_kits': u'AVGSTD', u't_weapon_tec9': u'AVGSTD', u'ct_helmets': u'AVGSTD', u't_weapon_p90': u'AVGSTD', u't_grenade_hegrenade': u'AVGSTD', u'ct_grenade_smokegrenade': u'AVGSTD', u'ct_money': u'AVGSTD', u't_weapon_sg553': u'AVGSTD', u'ct_weapon_cz75auto': u'AVGSTD', u't_weapon_g3sg1': u'AVGSTD', u't_weapon_mp5sd': u'AVGSTD', u'ct_grenade_hegrenade': u'AVGSTD', u't_weapon_aug': u'AVGSTD', u't_weapon_ssg08': u'AVGSTD', u't_weapon_sawedoff': u'AVGSTD', u'ct_weapon_p2000': u'AVGSTD', u'ct_weapon_elite': u'AVGSTD'}\n",
    "for (feature_name, rescale_method) in rescale_features.items():\n",
    "    if rescale_method == 'MINMAX':\n",
    "        _min = train[feature_name].min()\n",
    "        _max = train[feature_name].max()\n",
    "        scale = _max - _min\n",
    "        shift = _min\n",
    "    else:\n",
    "        shift = train[feature_name].mean()\n",
    "        scale = train[feature_name].std()\n",
    "    if scale == 0.:\n",
    "        del train[feature_name]\n",
    "        del test[feature_name]\n",
    "        print ('Feature %s was dropped because it has no variance' % feature_name)\n",
    "    else:\n",
    "        print ('Rescaled %s' % feature_name)\n",
    "        train[feature_name] = (train[feature_name] - shift).astype(np.float64) / scale\n",
    "        test[feature_name] = (test[feature_name] - shift).astype(np.float64) / scale"
   ]
  },
  {
   "cell_type": "markdown",
   "metadata": {},
   "source": [
    "#### Modeling"
   ]
  },
  {
   "cell_type": "markdown",
   "metadata": {},
   "source": [
    "Before actually creating our model, we need to split the datasets into their features and labels parts:"
   ]
  },
  {
   "cell_type": "code",
   "execution_count": null,
   "metadata": {},
   "outputs": [],
   "source": [
    "train_X = train.drop('__target__', axis=1)\n",
    "test_X = test.drop('__target__', axis=1)\n",
    "\n",
    "train_Y = np.array(train['__target__'])\n",
    "test_Y = np.array(test['__target__'])"
   ]
  },
  {
   "cell_type": "markdown",
   "metadata": {},
   "source": [
    "Now we can finally create our model !"
   ]
  },
  {
   "cell_type": "code",
   "execution_count": null,
   "metadata": {},
   "outputs": [],
   "source": [
    "import xgboost as xgb\n",
    "clf = xgb.XGBClassifier(\n",
    "                    max_depth=10,\n",
    "                    learning_rate=0.3,\n",
    "                    gamma=0.0,\n",
    "                    min_child_weight=0.0,\n",
    "                    max_delta_step=0.0,\n",
    "                    subsample=1.0,\n",
    "                    colsample_bytree=1.0,\n",
    "                    colsample_bylevel=1.0,\n",
    "                    reg_alpha=0.0,\n",
    "                    reg_lambda=1.0,\n",
    "                    n_estimators=115,\n",
    "                    silent=0,\n",
    "                    nthread=4,\n",
    "                    scale_pos_weight=1.0,\n",
    "                    base_score=0.5,\n",
    "                    seed=1337,\n",
    "                    missing=None,\n",
    "                  )"
   ]
  },
  {
   "cell_type": "markdown",
   "metadata": {},
   "source": [
    "... And train it"
   ]
  },
  {
   "cell_type": "code",
   "execution_count": null,
   "metadata": {},
   "outputs": [],
   "source": [
    "%time clf.fit(train_X, train_Y)"
   ]
  },
  {
   "cell_type": "markdown",
   "metadata": {},
   "source": [
    "Build up our result dataset"
   ]
  },
  {
   "cell_type": "markdown",
   "metadata": {},
   "source": [
    "The model is now trained, we can apply it to our test set:"
   ]
  },
  {
   "cell_type": "code",
   "execution_count": null,
   "metadata": {},
   "outputs": [],
   "source": [
    "%time _predictions = clf.predict(test_X)\n",
    "%time _probas = clf.predict_proba(test_X)\n",
    "predictions = pd.Series(data=_predictions, index=test_X.index, name='predicted_value')\n",
    "cols = [\n",
    "    u'probability_of_value_%s' % label\n",
    "    for (_, label) in sorted([(int(target_map[label]), label) for label in target_map])\n",
    "]\n",
    "probabilities = pd.DataFrame(data=_probas, index=test_X.index, columns=cols)\n",
    "\n",
    "# Build scored dataset\n",
    "results_test = test_X.join(predictions, how='left')\n",
    "results_test = results_test.join(probabilities, how='left')\n",
    "results_test = results_test.join(test['__target__'], how='left')\n",
    "results_test = results_test.rename(columns= {'__target__': 'round_winner'})"
   ]
  },
  {
   "cell_type": "markdown",
   "metadata": {},
   "source": [
    "#### Results"
   ]
  },
  {
   "cell_type": "markdown",
   "metadata": {},
   "source": [
    "You can measure the model's accuracy:"
   ]
  },
  {
   "cell_type": "code",
   "execution_count": null,
   "metadata": {},
   "outputs": [],
   "source": [
    "from dataiku.doctor.utils.metrics import mroc_auc_score\n",
    "test_Y_ser = pd.Series(test_Y)\n",
    "print ('AUC value:', mroc_auc_score(test_Y_ser, _probas))"
   ]
  },
  {
   "cell_type": "markdown",
   "metadata": {},
   "source": [
    "We can also view the predictions directly.\n",
    "Since scikit-learn only predicts numericals, the labels have been mapped to 0,1,2 ...\n",
    "We need to 'reverse' the mapping to display the initial labels."
   ]
  },
  {
   "cell_type": "code",
   "execution_count": null,
   "metadata": {},
   "outputs": [],
   "source": [
    "inv_map = { target_map[label] : label for label in target_map}\n",
    "predictions.map(inv_map)"
   ]
  },
  {
   "cell_type": "markdown",
   "metadata": {},
   "source": [
    "\n"
   ]
  }
 ],
 "metadata": {
  "kernelspec": {
   "display_name": "Python 2",
   "language": "python",
   "name": "python2"
  },
  "language_info": {
   "codemirror_mode": {
    "name": "ipython",
    "version": 2
   },
   "file_extension": ".py",
   "mimetype": "text/x-python",
   "name": "python",
   "nbconvert_exporter": "python",
   "pygments_lexer": "ipython2",
   "version": "2.7.5"
  },
  "name": "Predicting round_winner in modeling_set"
 },
 "nbformat": 4,
 "nbformat_minor": 1
}
