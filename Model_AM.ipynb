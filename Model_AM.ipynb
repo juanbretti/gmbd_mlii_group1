{
 "cells": [
  {
   "cell_type": "code",
   "execution_count": 2,
   "metadata": {},
   "outputs": [
    {
     "data": {
      "text/plain": [
       "'/Users/alex/Documents/IE/Group assignment-2'"
      ]
     },
     "execution_count": 2,
     "metadata": {},
     "output_type": "execute_result"
    }
   ],
   "source": [
    "import os\n",
    "os.getcwd()"
   ]
  },
  {
   "cell_type": "code",
   "execution_count": 4,
   "metadata": {},
   "outputs": [],
   "source": [
    "%matplotlib inline\n",
    "import matplotlib.pyplot as plt\n",
    "import numpy as np\n",
    "import pandas as pd\n",
    "from collections import defaultdict"
   ]
  },
  {
   "cell_type": "code",
   "execution_count": 47,
   "metadata": {},
   "outputs": [],
   "source": [
    "data_train = pd.read_csv(\"modeling_set.csv\")"
   ]
  },
  {
   "cell_type": "code",
   "execution_count": 48,
   "metadata": {},
   "outputs": [],
   "source": [
    "data_train.time_left = pd.cut(data_train.time_left,bins=[0,50,75,100,125, 150, 175],labels=[1,2,3,4,5,6])"
   ]
  },
  {
   "cell_type": "code",
   "execution_count": 49,
   "metadata": {},
   "outputs": [],
   "source": [
    "data_test = pd.read_csv(\"validation_set.csv\")"
   ]
  },
  {
   "cell_type": "code",
   "execution_count": 50,
   "metadata": {},
   "outputs": [],
   "source": [
    "data_test.time_left = pd.cut(data_test.time_left,bins=[0,50,75,100,125, 150, 175],labels=[1,2,3,4,5,6])"
   ]
  },
  {
   "cell_type": "code",
   "execution_count": 51,
   "metadata": {},
   "outputs": [
    {
     "data": {
      "text/html": [
       "<div>\n",
       "<style scoped>\n",
       "    .dataframe tbody tr th:only-of-type {\n",
       "        vertical-align: middle;\n",
       "    }\n",
       "\n",
       "    .dataframe tbody tr th {\n",
       "        vertical-align: top;\n",
       "    }\n",
       "\n",
       "    .dataframe thead th {\n",
       "        text-align: right;\n",
       "    }\n",
       "</style>\n",
       "<table border=\"1\" class=\"dataframe\">\n",
       "  <thead>\n",
       "    <tr style=\"text-align: right;\">\n",
       "      <th></th>\n",
       "      <th>time_left</th>\n",
       "      <th>ct_score</th>\n",
       "      <th>t_score</th>\n",
       "      <th>map</th>\n",
       "      <th>bomb_planted</th>\n",
       "      <th>ct_health</th>\n",
       "      <th>t_health</th>\n",
       "      <th>ct_armor</th>\n",
       "      <th>t_armor</th>\n",
       "      <th>ct_money</th>\n",
       "      <th>...</th>\n",
       "      <th>t_grenade_flashbang</th>\n",
       "      <th>ct_grenade_smokegrenade</th>\n",
       "      <th>t_grenade_smokegrenade</th>\n",
       "      <th>ct_grenade_incendiarygrenade</th>\n",
       "      <th>t_grenade_incendiarygrenade</th>\n",
       "      <th>ct_grenade_molotovgrenade</th>\n",
       "      <th>t_grenade_molotovgrenade</th>\n",
       "      <th>ct_grenade_decoygrenade</th>\n",
       "      <th>t_grenade_decoygrenade</th>\n",
       "      <th>round_winner</th>\n",
       "    </tr>\n",
       "  </thead>\n",
       "  <tbody>\n",
       "    <tr>\n",
       "      <td>0</td>\n",
       "      <td>4</td>\n",
       "      <td>10.0</td>\n",
       "      <td>7.0</td>\n",
       "      <td>de_dust2</td>\n",
       "      <td>False</td>\n",
       "      <td>500.0</td>\n",
       "      <td>500.0</td>\n",
       "      <td>86.0</td>\n",
       "      <td>483.0</td>\n",
       "      <td>14900.0</td>\n",
       "      <td>...</td>\n",
       "      <td>4.0</td>\n",
       "      <td>0.0</td>\n",
       "      <td>4.0</td>\n",
       "      <td>0.0</td>\n",
       "      <td>0.0</td>\n",
       "      <td>0.0</td>\n",
       "      <td>4.0</td>\n",
       "      <td>0.0</td>\n",
       "      <td>0.0</td>\n",
       "      <td>T</td>\n",
       "    </tr>\n",
       "    <tr>\n",
       "      <td>1</td>\n",
       "      <td>4</td>\n",
       "      <td>15.0</td>\n",
       "      <td>14.0</td>\n",
       "      <td>de_inferno</td>\n",
       "      <td>False</td>\n",
       "      <td>500.0</td>\n",
       "      <td>500.0</td>\n",
       "      <td>471.0</td>\n",
       "      <td>500.0</td>\n",
       "      <td>22700.0</td>\n",
       "      <td>...</td>\n",
       "      <td>1.0</td>\n",
       "      <td>5.0</td>\n",
       "      <td>2.0</td>\n",
       "      <td>4.0</td>\n",
       "      <td>0.0</td>\n",
       "      <td>1.0</td>\n",
       "      <td>3.0</td>\n",
       "      <td>0.0</td>\n",
       "      <td>0.0</td>\n",
       "      <td>CT</td>\n",
       "    </tr>\n",
       "    <tr>\n",
       "      <td>2</td>\n",
       "      <td>6</td>\n",
       "      <td>9.0</td>\n",
       "      <td>13.0</td>\n",
       "      <td>de_mirage</td>\n",
       "      <td>False</td>\n",
       "      <td>500.0</td>\n",
       "      <td>500.0</td>\n",
       "      <td>473.0</td>\n",
       "      <td>0.0</td>\n",
       "      <td>32300.0</td>\n",
       "      <td>...</td>\n",
       "      <td>0.0</td>\n",
       "      <td>4.0</td>\n",
       "      <td>0.0</td>\n",
       "      <td>1.0</td>\n",
       "      <td>0.0</td>\n",
       "      <td>0.0</td>\n",
       "      <td>0.0</td>\n",
       "      <td>0.0</td>\n",
       "      <td>0.0</td>\n",
       "      <td>CT</td>\n",
       "    </tr>\n",
       "    <tr>\n",
       "      <td>3</td>\n",
       "      <td>1</td>\n",
       "      <td>14.0</td>\n",
       "      <td>15.0</td>\n",
       "      <td>de_inferno</td>\n",
       "      <td>False</td>\n",
       "      <td>468.0</td>\n",
       "      <td>489.0</td>\n",
       "      <td>495.0</td>\n",
       "      <td>495.0</td>\n",
       "      <td>2850.0</td>\n",
       "      <td>...</td>\n",
       "      <td>0.0</td>\n",
       "      <td>2.0</td>\n",
       "      <td>0.0</td>\n",
       "      <td>1.0</td>\n",
       "      <td>0.0</td>\n",
       "      <td>0.0</td>\n",
       "      <td>0.0</td>\n",
       "      <td>0.0</td>\n",
       "      <td>0.0</td>\n",
       "      <td>T</td>\n",
       "    </tr>\n",
       "    <tr>\n",
       "      <td>4</td>\n",
       "      <td>2</td>\n",
       "      <td>3.0</td>\n",
       "      <td>2.0</td>\n",
       "      <td>de_inferno</td>\n",
       "      <td>False</td>\n",
       "      <td>497.0</td>\n",
       "      <td>400.0</td>\n",
       "      <td>500.0</td>\n",
       "      <td>400.0</td>\n",
       "      <td>5600.0</td>\n",
       "      <td>...</td>\n",
       "      <td>2.0</td>\n",
       "      <td>2.0</td>\n",
       "      <td>3.0</td>\n",
       "      <td>3.0</td>\n",
       "      <td>0.0</td>\n",
       "      <td>0.0</td>\n",
       "      <td>1.0</td>\n",
       "      <td>0.0</td>\n",
       "      <td>0.0</td>\n",
       "      <td>T</td>\n",
       "    </tr>\n",
       "  </tbody>\n",
       "</table>\n",
       "<p>5 rows × 97 columns</p>\n",
       "</div>"
      ],
      "text/plain": [
       "  time_left  ct_score  t_score         map  bomb_planted  ct_health  t_health  \\\n",
       "0         4      10.0      7.0    de_dust2         False      500.0     500.0   \n",
       "1         4      15.0     14.0  de_inferno         False      500.0     500.0   \n",
       "2         6       9.0     13.0   de_mirage         False      500.0     500.0   \n",
       "3         1      14.0     15.0  de_inferno         False      468.0     489.0   \n",
       "4         2       3.0      2.0  de_inferno         False      497.0     400.0   \n",
       "\n",
       "   ct_armor  t_armor  ct_money  ...  t_grenade_flashbang  \\\n",
       "0      86.0    483.0   14900.0  ...                  4.0   \n",
       "1     471.0    500.0   22700.0  ...                  1.0   \n",
       "2     473.0      0.0   32300.0  ...                  0.0   \n",
       "3     495.0    495.0    2850.0  ...                  0.0   \n",
       "4     500.0    400.0    5600.0  ...                  2.0   \n",
       "\n",
       "   ct_grenade_smokegrenade  t_grenade_smokegrenade  \\\n",
       "0                      0.0                     4.0   \n",
       "1                      5.0                     2.0   \n",
       "2                      4.0                     0.0   \n",
       "3                      2.0                     0.0   \n",
       "4                      2.0                     3.0   \n",
       "\n",
       "   ct_grenade_incendiarygrenade  t_grenade_incendiarygrenade  \\\n",
       "0                           0.0                          0.0   \n",
       "1                           4.0                          0.0   \n",
       "2                           1.0                          0.0   \n",
       "3                           1.0                          0.0   \n",
       "4                           3.0                          0.0   \n",
       "\n",
       "   ct_grenade_molotovgrenade  t_grenade_molotovgrenade  \\\n",
       "0                        0.0                       4.0   \n",
       "1                        1.0                       3.0   \n",
       "2                        0.0                       0.0   \n",
       "3                        0.0                       0.0   \n",
       "4                        0.0                       1.0   \n",
       "\n",
       "   ct_grenade_decoygrenade  t_grenade_decoygrenade  round_winner  \n",
       "0                      0.0                     0.0             T  \n",
       "1                      0.0                     0.0            CT  \n",
       "2                      0.0                     0.0            CT  \n",
       "3                      0.0                     0.0             T  \n",
       "4                      0.0                     0.0             T  \n",
       "\n",
       "[5 rows x 97 columns]"
      ]
     },
     "execution_count": 51,
     "metadata": {},
     "output_type": "execute_result"
    }
   ],
   "source": [
    "data_train.head()"
   ]
  },
  {
   "cell_type": "code",
   "execution_count": 52,
   "metadata": {},
   "outputs": [],
   "source": [
    "data_test.round_winner=data_test.round_winner.astype('category').cat.codes\n",
    "data_test.map=data_test.map.astype('category').cat.codes\n",
    "data_test.bomb_planted=data_test.bomb_planted.astype('category').cat.codes"
   ]
  },
  {
   "cell_type": "code",
   "execution_count": 53,
   "metadata": {},
   "outputs": [],
   "source": [
    "data_train.round_winner=data_train.round_winner.astype('category').cat.codes\n",
    "data_train.map=data_train.map.astype('category').cat.codes\n",
    "data_train.bomb_planted=data_train.bomb_planted.astype('category').cat.codes"
   ]
  },
  {
   "cell_type": "code",
   "execution_count": 54,
   "metadata": {},
   "outputs": [
    {
     "data": {
      "text/html": [
       "<div>\n",
       "<style scoped>\n",
       "    .dataframe tbody tr th:only-of-type {\n",
       "        vertical-align: middle;\n",
       "    }\n",
       "\n",
       "    .dataframe tbody tr th {\n",
       "        vertical-align: top;\n",
       "    }\n",
       "\n",
       "    .dataframe thead th {\n",
       "        text-align: right;\n",
       "    }\n",
       "</style>\n",
       "<table border=\"1\" class=\"dataframe\">\n",
       "  <thead>\n",
       "    <tr style=\"text-align: right;\">\n",
       "      <th></th>\n",
       "      <th>time_left</th>\n",
       "      <th>ct_score</th>\n",
       "      <th>t_score</th>\n",
       "      <th>map</th>\n",
       "      <th>bomb_planted</th>\n",
       "      <th>ct_health</th>\n",
       "      <th>t_health</th>\n",
       "      <th>ct_armor</th>\n",
       "      <th>t_armor</th>\n",
       "      <th>ct_money</th>\n",
       "      <th>...</th>\n",
       "      <th>t_grenade_flashbang</th>\n",
       "      <th>ct_grenade_smokegrenade</th>\n",
       "      <th>t_grenade_smokegrenade</th>\n",
       "      <th>ct_grenade_incendiarygrenade</th>\n",
       "      <th>t_grenade_incendiarygrenade</th>\n",
       "      <th>ct_grenade_molotovgrenade</th>\n",
       "      <th>t_grenade_molotovgrenade</th>\n",
       "      <th>ct_grenade_decoygrenade</th>\n",
       "      <th>t_grenade_decoygrenade</th>\n",
       "      <th>round_winner</th>\n",
       "    </tr>\n",
       "  </thead>\n",
       "  <tbody>\n",
       "    <tr>\n",
       "      <td>0</td>\n",
       "      <td>4</td>\n",
       "      <td>10.0</td>\n",
       "      <td>7.0</td>\n",
       "      <td>1</td>\n",
       "      <td>0</td>\n",
       "      <td>500.0</td>\n",
       "      <td>500.0</td>\n",
       "      <td>86.0</td>\n",
       "      <td>483.0</td>\n",
       "      <td>14900.0</td>\n",
       "      <td>...</td>\n",
       "      <td>4.0</td>\n",
       "      <td>0.0</td>\n",
       "      <td>4.0</td>\n",
       "      <td>0.0</td>\n",
       "      <td>0.0</td>\n",
       "      <td>0.0</td>\n",
       "      <td>4.0</td>\n",
       "      <td>0.0</td>\n",
       "      <td>0.0</td>\n",
       "      <td>1</td>\n",
       "    </tr>\n",
       "    <tr>\n",
       "      <td>1</td>\n",
       "      <td>4</td>\n",
       "      <td>15.0</td>\n",
       "      <td>14.0</td>\n",
       "      <td>2</td>\n",
       "      <td>0</td>\n",
       "      <td>500.0</td>\n",
       "      <td>500.0</td>\n",
       "      <td>471.0</td>\n",
       "      <td>500.0</td>\n",
       "      <td>22700.0</td>\n",
       "      <td>...</td>\n",
       "      <td>1.0</td>\n",
       "      <td>5.0</td>\n",
       "      <td>2.0</td>\n",
       "      <td>4.0</td>\n",
       "      <td>0.0</td>\n",
       "      <td>1.0</td>\n",
       "      <td>3.0</td>\n",
       "      <td>0.0</td>\n",
       "      <td>0.0</td>\n",
       "      <td>0</td>\n",
       "    </tr>\n",
       "    <tr>\n",
       "      <td>2</td>\n",
       "      <td>6</td>\n",
       "      <td>9.0</td>\n",
       "      <td>13.0</td>\n",
       "      <td>3</td>\n",
       "      <td>0</td>\n",
       "      <td>500.0</td>\n",
       "      <td>500.0</td>\n",
       "      <td>473.0</td>\n",
       "      <td>0.0</td>\n",
       "      <td>32300.0</td>\n",
       "      <td>...</td>\n",
       "      <td>0.0</td>\n",
       "      <td>4.0</td>\n",
       "      <td>0.0</td>\n",
       "      <td>1.0</td>\n",
       "      <td>0.0</td>\n",
       "      <td>0.0</td>\n",
       "      <td>0.0</td>\n",
       "      <td>0.0</td>\n",
       "      <td>0.0</td>\n",
       "      <td>0</td>\n",
       "    </tr>\n",
       "    <tr>\n",
       "      <td>3</td>\n",
       "      <td>1</td>\n",
       "      <td>14.0</td>\n",
       "      <td>15.0</td>\n",
       "      <td>2</td>\n",
       "      <td>0</td>\n",
       "      <td>468.0</td>\n",
       "      <td>489.0</td>\n",
       "      <td>495.0</td>\n",
       "      <td>495.0</td>\n",
       "      <td>2850.0</td>\n",
       "      <td>...</td>\n",
       "      <td>0.0</td>\n",
       "      <td>2.0</td>\n",
       "      <td>0.0</td>\n",
       "      <td>1.0</td>\n",
       "      <td>0.0</td>\n",
       "      <td>0.0</td>\n",
       "      <td>0.0</td>\n",
       "      <td>0.0</td>\n",
       "      <td>0.0</td>\n",
       "      <td>1</td>\n",
       "    </tr>\n",
       "    <tr>\n",
       "      <td>4</td>\n",
       "      <td>2</td>\n",
       "      <td>3.0</td>\n",
       "      <td>2.0</td>\n",
       "      <td>2</td>\n",
       "      <td>0</td>\n",
       "      <td>497.0</td>\n",
       "      <td>400.0</td>\n",
       "      <td>500.0</td>\n",
       "      <td>400.0</td>\n",
       "      <td>5600.0</td>\n",
       "      <td>...</td>\n",
       "      <td>2.0</td>\n",
       "      <td>2.0</td>\n",
       "      <td>3.0</td>\n",
       "      <td>3.0</td>\n",
       "      <td>0.0</td>\n",
       "      <td>0.0</td>\n",
       "      <td>1.0</td>\n",
       "      <td>0.0</td>\n",
       "      <td>0.0</td>\n",
       "      <td>1</td>\n",
       "    </tr>\n",
       "  </tbody>\n",
       "</table>\n",
       "<p>5 rows × 97 columns</p>\n",
       "</div>"
      ],
      "text/plain": [
       "  time_left  ct_score  t_score  map  bomb_planted  ct_health  t_health  \\\n",
       "0         4      10.0      7.0    1             0      500.0     500.0   \n",
       "1         4      15.0     14.0    2             0      500.0     500.0   \n",
       "2         6       9.0     13.0    3             0      500.0     500.0   \n",
       "3         1      14.0     15.0    2             0      468.0     489.0   \n",
       "4         2       3.0      2.0    2             0      497.0     400.0   \n",
       "\n",
       "   ct_armor  t_armor  ct_money  ...  t_grenade_flashbang  \\\n",
       "0      86.0    483.0   14900.0  ...                  4.0   \n",
       "1     471.0    500.0   22700.0  ...                  1.0   \n",
       "2     473.0      0.0   32300.0  ...                  0.0   \n",
       "3     495.0    495.0    2850.0  ...                  0.0   \n",
       "4     500.0    400.0    5600.0  ...                  2.0   \n",
       "\n",
       "   ct_grenade_smokegrenade  t_grenade_smokegrenade  \\\n",
       "0                      0.0                     4.0   \n",
       "1                      5.0                     2.0   \n",
       "2                      4.0                     0.0   \n",
       "3                      2.0                     0.0   \n",
       "4                      2.0                     3.0   \n",
       "\n",
       "   ct_grenade_incendiarygrenade  t_grenade_incendiarygrenade  \\\n",
       "0                           0.0                          0.0   \n",
       "1                           4.0                          0.0   \n",
       "2                           1.0                          0.0   \n",
       "3                           1.0                          0.0   \n",
       "4                           3.0                          0.0   \n",
       "\n",
       "   ct_grenade_molotovgrenade  t_grenade_molotovgrenade  \\\n",
       "0                        0.0                       4.0   \n",
       "1                        1.0                       3.0   \n",
       "2                        0.0                       0.0   \n",
       "3                        0.0                       0.0   \n",
       "4                        0.0                       1.0   \n",
       "\n",
       "   ct_grenade_decoygrenade  t_grenade_decoygrenade  round_winner  \n",
       "0                      0.0                     0.0             1  \n",
       "1                      0.0                     0.0             0  \n",
       "2                      0.0                     0.0             0  \n",
       "3                      0.0                     0.0             1  \n",
       "4                      0.0                     0.0             1  \n",
       "\n",
       "[5 rows x 97 columns]"
      ]
     },
     "execution_count": 54,
     "metadata": {},
     "output_type": "execute_result"
    }
   ],
   "source": [
    "data_train.head()"
   ]
  },
  {
   "cell_type": "code",
   "execution_count": 55,
   "metadata": {},
   "outputs": [
    {
     "data": {
      "text/html": [
       "<div>\n",
       "<style scoped>\n",
       "    .dataframe tbody tr th:only-of-type {\n",
       "        vertical-align: middle;\n",
       "    }\n",
       "\n",
       "    .dataframe tbody tr th {\n",
       "        vertical-align: top;\n",
       "    }\n",
       "\n",
       "    .dataframe thead th {\n",
       "        text-align: right;\n",
       "    }\n",
       "</style>\n",
       "<table border=\"1\" class=\"dataframe\">\n",
       "  <thead>\n",
       "    <tr style=\"text-align: right;\">\n",
       "      <th></th>\n",
       "      <th>time_left</th>\n",
       "      <th>ct_score</th>\n",
       "      <th>t_score</th>\n",
       "      <th>map</th>\n",
       "      <th>bomb_planted</th>\n",
       "      <th>ct_health</th>\n",
       "      <th>t_health</th>\n",
       "      <th>ct_armor</th>\n",
       "      <th>t_armor</th>\n",
       "      <th>ct_money</th>\n",
       "      <th>...</th>\n",
       "      <th>t_grenade_flashbang</th>\n",
       "      <th>ct_grenade_smokegrenade</th>\n",
       "      <th>t_grenade_smokegrenade</th>\n",
       "      <th>ct_grenade_incendiarygrenade</th>\n",
       "      <th>t_grenade_incendiarygrenade</th>\n",
       "      <th>ct_grenade_molotovgrenade</th>\n",
       "      <th>t_grenade_molotovgrenade</th>\n",
       "      <th>ct_grenade_decoygrenade</th>\n",
       "      <th>t_grenade_decoygrenade</th>\n",
       "      <th>round_winner</th>\n",
       "    </tr>\n",
       "  </thead>\n",
       "  <tbody>\n",
       "    <tr>\n",
       "      <td>0</td>\n",
       "      <td>3</td>\n",
       "      <td>2.0</td>\n",
       "      <td>6.0</td>\n",
       "      <td>3</td>\n",
       "      <td>0</td>\n",
       "      <td>400.0</td>\n",
       "      <td>300.0</td>\n",
       "      <td>400.0</td>\n",
       "      <td>300.0</td>\n",
       "      <td>1100.0</td>\n",
       "      <td>...</td>\n",
       "      <td>2.0</td>\n",
       "      <td>2.0</td>\n",
       "      <td>0.0</td>\n",
       "      <td>2.0</td>\n",
       "      <td>0.0</td>\n",
       "      <td>0.0</td>\n",
       "      <td>2.0</td>\n",
       "      <td>0.0</td>\n",
       "      <td>0.0</td>\n",
       "      <td>1</td>\n",
       "    </tr>\n",
       "    <tr>\n",
       "      <td>1</td>\n",
       "      <td>1</td>\n",
       "      <td>5.0</td>\n",
       "      <td>5.0</td>\n",
       "      <td>4</td>\n",
       "      <td>0</td>\n",
       "      <td>417.0</td>\n",
       "      <td>149.0</td>\n",
       "      <td>495.0</td>\n",
       "      <td>184.0</td>\n",
       "      <td>5550.0</td>\n",
       "      <td>...</td>\n",
       "      <td>1.0</td>\n",
       "      <td>0.0</td>\n",
       "      <td>2.0</td>\n",
       "      <td>1.0</td>\n",
       "      <td>0.0</td>\n",
       "      <td>0.0</td>\n",
       "      <td>1.0</td>\n",
       "      <td>0.0</td>\n",
       "      <td>0.0</td>\n",
       "      <td>0</td>\n",
       "    </tr>\n",
       "    <tr>\n",
       "      <td>2</td>\n",
       "      <td>4</td>\n",
       "      <td>7.0</td>\n",
       "      <td>3.0</td>\n",
       "      <td>3</td>\n",
       "      <td>0</td>\n",
       "      <td>500.0</td>\n",
       "      <td>500.0</td>\n",
       "      <td>500.0</td>\n",
       "      <td>500.0</td>\n",
       "      <td>5400.0</td>\n",
       "      <td>...</td>\n",
       "      <td>5.0</td>\n",
       "      <td>5.0</td>\n",
       "      <td>4.0</td>\n",
       "      <td>3.0</td>\n",
       "      <td>0.0</td>\n",
       "      <td>1.0</td>\n",
       "      <td>1.0</td>\n",
       "      <td>0.0</td>\n",
       "      <td>0.0</td>\n",
       "      <td>1</td>\n",
       "    </tr>\n",
       "    <tr>\n",
       "      <td>3</td>\n",
       "      <td>3</td>\n",
       "      <td>10.0</td>\n",
       "      <td>7.0</td>\n",
       "      <td>1</td>\n",
       "      <td>0</td>\n",
       "      <td>228.0</td>\n",
       "      <td>300.0</td>\n",
       "      <td>195.0</td>\n",
       "      <td>300.0</td>\n",
       "      <td>800.0</td>\n",
       "      <td>...</td>\n",
       "      <td>2.0</td>\n",
       "      <td>0.0</td>\n",
       "      <td>3.0</td>\n",
       "      <td>0.0</td>\n",
       "      <td>0.0</td>\n",
       "      <td>0.0</td>\n",
       "      <td>3.0</td>\n",
       "      <td>0.0</td>\n",
       "      <td>0.0</td>\n",
       "      <td>1</td>\n",
       "    </tr>\n",
       "    <tr>\n",
       "      <td>4</td>\n",
       "      <td>1</td>\n",
       "      <td>5.0</td>\n",
       "      <td>4.0</td>\n",
       "      <td>5</td>\n",
       "      <td>0</td>\n",
       "      <td>400.0</td>\n",
       "      <td>478.0</td>\n",
       "      <td>396.0</td>\n",
       "      <td>497.0</td>\n",
       "      <td>22100.0</td>\n",
       "      <td>...</td>\n",
       "      <td>3.0</td>\n",
       "      <td>2.0</td>\n",
       "      <td>4.0</td>\n",
       "      <td>2.0</td>\n",
       "      <td>0.0</td>\n",
       "      <td>0.0</td>\n",
       "      <td>0.0</td>\n",
       "      <td>0.0</td>\n",
       "      <td>0.0</td>\n",
       "      <td>1</td>\n",
       "    </tr>\n",
       "  </tbody>\n",
       "</table>\n",
       "<p>5 rows × 97 columns</p>\n",
       "</div>"
      ],
      "text/plain": [
       "  time_left  ct_score  t_score  map  bomb_planted  ct_health  t_health  \\\n",
       "0         3       2.0      6.0    3             0      400.0     300.0   \n",
       "1         1       5.0      5.0    4             0      417.0     149.0   \n",
       "2         4       7.0      3.0    3             0      500.0     500.0   \n",
       "3         3      10.0      7.0    1             0      228.0     300.0   \n",
       "4         1       5.0      4.0    5             0      400.0     478.0   \n",
       "\n",
       "   ct_armor  t_armor  ct_money  ...  t_grenade_flashbang  \\\n",
       "0     400.0    300.0    1100.0  ...                  2.0   \n",
       "1     495.0    184.0    5550.0  ...                  1.0   \n",
       "2     500.0    500.0    5400.0  ...                  5.0   \n",
       "3     195.0    300.0     800.0  ...                  2.0   \n",
       "4     396.0    497.0   22100.0  ...                  3.0   \n",
       "\n",
       "   ct_grenade_smokegrenade  t_grenade_smokegrenade  \\\n",
       "0                      2.0                     0.0   \n",
       "1                      0.0                     2.0   \n",
       "2                      5.0                     4.0   \n",
       "3                      0.0                     3.0   \n",
       "4                      2.0                     4.0   \n",
       "\n",
       "   ct_grenade_incendiarygrenade  t_grenade_incendiarygrenade  \\\n",
       "0                           2.0                          0.0   \n",
       "1                           1.0                          0.0   \n",
       "2                           3.0                          0.0   \n",
       "3                           0.0                          0.0   \n",
       "4                           2.0                          0.0   \n",
       "\n",
       "   ct_grenade_molotovgrenade  t_grenade_molotovgrenade  \\\n",
       "0                        0.0                       2.0   \n",
       "1                        0.0                       1.0   \n",
       "2                        1.0                       1.0   \n",
       "3                        0.0                       3.0   \n",
       "4                        0.0                       0.0   \n",
       "\n",
       "   ct_grenade_decoygrenade  t_grenade_decoygrenade  round_winner  \n",
       "0                      0.0                     0.0             1  \n",
       "1                      0.0                     0.0             0  \n",
       "2                      0.0                     0.0             1  \n",
       "3                      0.0                     0.0             1  \n",
       "4                      0.0                     0.0             1  \n",
       "\n",
       "[5 rows x 97 columns]"
      ]
     },
     "execution_count": 55,
     "metadata": {},
     "output_type": "execute_result"
    }
   ],
   "source": [
    "data_test.head()"
   ]
  },
  {
   "cell_type": "code",
   "execution_count": 65,
   "metadata": {},
   "outputs": [
    {
     "data": {
      "text/plain": [
       "time_left                    category\n",
       "ct_score                      float64\n",
       "t_score                       float64\n",
       "map                              int8\n",
       "bomb_planted                     int8\n",
       "                               ...   \n",
       "ct_grenade_molotovgrenade     float64\n",
       "t_grenade_molotovgrenade      float64\n",
       "ct_grenade_decoygrenade       float64\n",
       "t_grenade_decoygrenade        float64\n",
       "round_winner                     int8\n",
       "Length: 97, dtype: object"
      ]
     },
     "execution_count": 65,
     "metadata": {},
     "output_type": "execute_result"
    }
   ],
   "source": [
    "data_test.dtypes"
   ]
  },
  {
   "cell_type": "code",
   "execution_count": 67,
   "metadata": {},
   "outputs": [],
   "source": [
    "data_test[\"time_left\"] = pd.to_numeric(data_test[\"time_left\"])"
   ]
  },
  {
   "cell_type": "code",
   "execution_count": 69,
   "metadata": {},
   "outputs": [],
   "source": [
    "data_train[\"time_left\"] = pd.to_numeric(data_train[\"time_left\"])"
   ]
  },
  {
   "cell_type": "code",
   "execution_count": 70,
   "metadata": {},
   "outputs": [
    {
     "data": {
      "text/plain": [
       "time_left                      int64\n",
       "ct_score                     float64\n",
       "t_score                      float64\n",
       "map                             int8\n",
       "bomb_planted                    int8\n",
       "                              ...   \n",
       "ct_grenade_molotovgrenade    float64\n",
       "t_grenade_molotovgrenade     float64\n",
       "ct_grenade_decoygrenade      float64\n",
       "t_grenade_decoygrenade       float64\n",
       "round_winner                    int8\n",
       "Length: 97, dtype: object"
      ]
     },
     "execution_count": 70,
     "metadata": {},
     "output_type": "execute_result"
    }
   ],
   "source": [
    "data_train.dtypes"
   ]
  },
  {
   "cell_type": "code",
   "execution_count": 20,
   "metadata": {},
   "outputs": [
    {
     "data": {
      "image/png": "[encoded data removed]",
      "text/plain": [
       "<Figure size 576x432 with 2 Axes>"
      ]
     },
     "metadata": {
      "needs_background": "light"
     },
     "output_type": "display_data"
    }
   ],
   "source": [
    "import seaborn as sns\n",
    "C_mat = data_train.corr()\n",
    "fig = plt.figure(figsize = (8,6))\n",
    "\n",
    "sns.heatmap(C_mat, vmax = .8, square = True)\n",
    "plt.show()"
   ]
  },
  {
   "cell_type": "markdown",
   "metadata": {},
   "source": [
    "Heatmap"
   ]
  },
  {
   "cell_type": "markdown",
   "metadata": {},
   "source": [
    "XGBoost"
   ]
  },
  {
   "cell_type": "code",
   "execution_count": 72,
   "metadata": {},
   "outputs": [],
   "source": [
    "#msk = np.random.rand(len(data_train)) < 0.8\n",
    "train_set = data_train\n",
    "test_set = data_train"
   ]
  },
  {
   "cell_type": "code",
   "execution_count": 73,
   "metadata": {},
   "outputs": [],
   "source": [
    "X_train = train_set.drop(\"round_winner\", axis=1)\n",
    "X_test = test_set.drop(\"round_winner\", axis=1)\n",
    "y_train = train_set[\"round_winner\"]\n",
    "y_test = test_set[\"round_winner\"]"
   ]
  },
  {
   "cell_type": "code",
   "execution_count": 74,
   "metadata": {},
   "outputs": [],
   "source": [
    "import xgboost as xgb"
   ]
  },
  {
   "cell_type": "code",
   "execution_count": 75,
   "metadata": {},
   "outputs": [],
   "source": [
    "from xgboost import XGBClassifier"
   ]
  },
  {
   "cell_type": "code",
   "execution_count": 76,
   "metadata": {},
   "outputs": [],
   "source": [
    "import xgboost as xgb\n",
    "import warnings\n",
    "warnings.filterwarnings(action='ignore')\n",
    "from sklearn.model_selection import GridSearchCV"
   ]
  },
  {
   "cell_type": "code",
   "execution_count": 77,
   "metadata": {
    "scrolled": true
   },
   "outputs": [
    {
     "name": "stdout",
     "output_type": "stream",
     "text": [
      "CPU times: user 3min 30s, sys: 2 s, total: 3min 32s\n",
      "Wall time: 15min 11s\n"
     ]
    },
    {
     "data": {
      "text/plain": [
       "GridSearchCV(cv=5, error_score='raise-deprecating',\n",
       "             estimator=XGBClassifier(base_score=0.5, booster='gbtree',\n",
       "                                     colsample_bylevel=1, colsample_bynode=1,\n",
       "                                     colsample_bytree=0.8, gamma=0,\n",
       "                                     learning_rate=0.1, max_delta_step=0,\n",
       "                                     max_depth=3, min_child_weight=1,\n",
       "                                     missing=None, n_estimators=100, n_jobs=1,\n",
       "                                     nthread=None, objective='binary:logistic',\n",
       "                                     random_state=0, reg_alpha=0, reg_lambda=1,\n",
       "                                     scale_pos_weight=1, seed=None, silent=None,\n",
       "                                     subsample=0.8, verbosity=1),\n",
       "             iid='warn', n_jobs=-1,\n",
       "             param_grid={'max_depth': [7], 'min_child_weight': [3],\n",
       "                         'n_estimators': [300]},\n",
       "             pre_dispatch='2*n_jobs', refit=True, return_train_score=False,\n",
       "             scoring='accuracy', verbose=0)"
      ]
     },
     "execution_count": 77,
     "metadata": {},
     "output_type": "execute_result"
    }
   ],
   "source": [
    "%%time\n",
    "# add your code here\n",
    "cv_params = {'max_depth': [7], 'min_child_weight': [3], 'n_estimators': [300]}\n",
    "ind_params = {'learning_rate': 0.1, 'random_state':0, 'subsample': 0.8, 'colsample_bytree': 0.8, \n",
    "              'objective': 'binary:logistic'}\n",
    "\n",
    "optimized_GBM = GridSearchCV(xgb.XGBClassifier(**ind_params), \n",
    "                             cv_params, scoring='accuracy', \n",
    "                             cv = 5, n_jobs = -1) \n",
    "optimized_GBM.fit(X_train, y_train)"
   ]
  },
  {
   "cell_type": "code",
   "execution_count": 28,
   "metadata": {},
   "outputs": [
    {
     "name": "stdout",
     "output_type": "stream",
     "text": [
      "{'max_depth': 7, 'min_child_weight': 3, 'n_estimators': 300}\n"
     ]
    }
   ],
   "source": [
    "# add your code here\n",
    "print(optimized_GBM.best_params_)"
   ]
  },
  {
   "cell_type": "code",
   "execution_count": 78,
   "metadata": {},
   "outputs": [
    {
     "name": "stdout",
     "output_type": "stream",
     "text": [
      "#Mislabeled points (XGB) : 10180 out of 85687\n",
      "Model Accuray: 0.8812\n"
     ]
    }
   ],
   "source": [
    "from sklearn.metrics import accuracy_score\n",
    "y_pred = optimized_GBM.predict(X_test)\n",
    "print(\"#Mislabeled points (XGB) : {} out of {}\".format(sum(y_pred != y_test), len(y_test)))\n",
    "print(\"Model Accuray: {:.4f}\".format(accuracy_score(y_test, y_pred)))"
   ]
  },
  {
   "cell_type": "code",
   "execution_count": 29,
   "metadata": {},
   "outputs": [
    {
     "name": "stdout",
     "output_type": "stream",
     "text": [
      "#Mislabeled points (XGB) : 2988 out of 16957\n",
      "Model Accuray: 0.8238\n"
     ]
    }
   ],
   "source": [
    "# this is the prevoius result with removing the \n",
    "from sklearn.metrics import accuracy_score\n",
    "y_pred = optimized_GBM.predict(X_test)\n",
    "print(\"#Mislabeled points (XGB) : {} out of {}\".format(sum(y_pred != y_test), len(y_test)))\n",
    "print(\"Model Accuray: {:.4f}\".format(accuracy_score(y_test, y_pred)))"
   ]
  },
  {
   "cell_type": "code",
   "execution_count": 30,
   "metadata": {},
   "outputs": [
    {
     "data": {
      "image/png": "[encoded data removed]",
      "text/plain": [
       "<Figure size 576x576 with 1 Axes>"
      ]
     },
     "metadata": {
      "needs_background": "light"
     },
     "output_type": "display_data"
    }
   ],
   "source": [
    "plt.figure(figsize=(8,8))\n",
    "xgb.plot_importance(optimized_GBM.best_estimator_, ax=plt.gca())\n",
    "plt.grid(b=None)"
   ]
  },
  {
   "cell_type": "markdown",
   "metadata": {},
   "source": [
    "Random Forrest"
   ]
  },
  {
   "cell_type": "code",
   "execution_count": 31,
   "metadata": {},
   "outputs": [],
   "source": [
    "from sklearn.ensemble import RandomForestClassifier\n",
    "rfc = RandomForestClassifier(n_estimators = 100, max_features = 'auto', max_depth = 20, criterion = 'entropy', min_samples_split = 3, random_state=0)"
   ]
  },
  {
   "cell_type": "code",
   "execution_count": 32,
   "metadata": {},
   "outputs": [],
   "source": [
    "from sklearn.ensemble import RandomForestClassifier\n",
    "rfc = RandomForestClassifier(random_state=42)\n",
    "param_grid = { \n",
    "    'n_estimators': [100, 200, 300],\n",
    "    'max_features': ['auto'],\n",
    "    'max_depth' : [10, 20, 30],\n",
    "    'criterion' :['entropy'], \n",
    "    \"min_samples_split\": [2, 3, 10]\n",
    "}\n"
   ]
  },
  {
   "cell_type": "code",
   "execution_count": 33,
   "metadata": {},
   "outputs": [
    {
     "data": {
      "text/plain": [
       "{'criterion': 'entropy',\n",
       " 'max_depth': 30,\n",
       " 'max_features': 'auto',\n",
       " 'min_samples_split': 2,\n",
       " 'n_estimators': 300}"
      ]
     },
     "execution_count": 33,
     "metadata": {},
     "output_type": "execute_result"
    }
   ],
   "source": [
    "from sklearn.model_selection import GridSearchCV\n",
    "CV_rfc = GridSearchCV(estimator=rfc, param_grid=param_grid, cv= 5)\n",
    "CV_rfc.fit(X_train, y_train)\n",
    "CV_rfc.best_params_"
   ]
  },
  {
   "cell_type": "code",
   "execution_count": 34,
   "metadata": {},
   "outputs": [
    {
     "name": "stdout",
     "output_type": "stream",
     "text": [
      "#Mislabeled points (RF) : 2897 out of 16957\n",
      "Model Accuray: 0.8292\n"
     ]
    }
   ],
   "source": [
    "from sklearn.metrics import accuracy_score\n",
    "y_pred = rfc.fit(X_train, y_train).predict(X_test)\n",
    "print(\"#Mislabeled points (RF) : {1} out of {0}\".format(len(y_test), sum(y_pred != y_test)))\n",
    "print(\"Model Accuray: {:.4f}\".format(accuracy_score(y_test, y_pred)))"
   ]
  },
  {
   "cell_type": "code",
   "execution_count": null,
   "metadata": {},
   "outputs": [],
   "source": [
    "importances = rf.feature_importances_\n",
    "print (\"Sorted Feature Importance:\")\n",
    "sorted_feature_importance = sorted(zip(importances, list(X_train)), reverse=True)\n",
    "print (sorted_feature_importance)"
   ]
  },
  {
   "cell_type": "code",
   "execution_count": null,
   "metadata": {},
   "outputs": [],
   "source": [
    "import seaborn as sns\n",
    "sns.heatmap(data_train.corr(), annot=True)"
   ]
  },
  {
   "cell_type": "markdown",
   "metadata": {},
   "source": [
    "Neural Networks"
   ]
  },
  {
   "cell_type": "code",
   "execution_count": null,
   "metadata": {},
   "outputs": [],
   "source": [
    "pd.DataFrame(rfc.feature_importances_, \n",
    "             index=X_train.columns, \n",
    "             columns=[\"importance\"]).sort_values(\"importance\", ascending=False).plot(kind=\"bar\", figsize=(8,4), ax=plt.gca())"
   ]
  },
  {
   "cell_type": "code",
   "execution_count": null,
   "metadata": {},
   "outputs": [],
   "source": [
    "#data_train_test = data_train.drop('Cost to Income Ratio', axis=1)"
   ]
  },
  {
   "cell_type": "code",
   "execution_count": null,
   "metadata": {},
   "outputs": [],
   "source": [
    "msk = np.random.rand(len(data_train)) < 0.8\n",
    "train_set = data_train[msk]\n",
    "test_set = data_train[~msk]"
   ]
  },
  {
   "cell_type": "code",
   "execution_count": null,
   "metadata": {},
   "outputs": [],
   "source": [
    "X_train = train_set.drop(\"round_winner\", axis=1)\n",
    "X_test = test_set.drop(\"round_winner\", axis=1)\n",
    "y_train = train_set[\"round_winner\"]\n",
    "y_test = test_set[\"round_winner\"]"
   ]
  },
  {
   "cell_type": "code",
   "execution_count": null,
   "metadata": {},
   "outputs": [],
   "source": [
    "data_train.shape"
   ]
  },
  {
   "cell_type": "code",
   "execution_count": null,
   "metadata": {},
   "outputs": [],
   "source": [
    "from sklearn.ensemble import RandomForestClassifier\n",
    "rf = RandomForestClassifier(n_estimators=500, random_state=0)\n",
    "y_pred = rf.fit(X_train, y_train).predict(X_test)\n",
    "print(\"#Mislabeled points (RF) : {1} out of {0}\".format(len(y_test), sum(y_pred != y_test)))\n",
    "print(\"Model Accuray: {:.4f}\".format(accuracy_score(y_test, y_pred)))"
   ]
  },
  {
   "cell_type": "code",
   "execution_count": null,
   "metadata": {},
   "outputs": [],
   "source": [
    "%%time\n",
    "# add your code here\n",
    "cv_params = {'max_depth': [5, 7], 'min_child_weight': [1, 3], 'n_estimators': [50, 100]}\n",
    "ind_params = {'learning_rate': 0.1, 'random_state':0, 'subsample': 0.8, 'colsample_bytree': 0.8, \n",
    "              'objective': 'binary:logistic'}\n",
    "\n",
    "optimized_GBM = GridSearchCV(xgb.XGBClassifier(**ind_params), \n",
    "                             cv_params, scoring='accuracy', \n",
    "                             cv = 5, n_jobs = -1) \n",
    "optimized_GBM.fit(X_train, y_train)"
   ]
  },
  {
   "cell_type": "code",
   "execution_count": null,
   "metadata": {},
   "outputs": [],
   "source": [
    "# add your code here\n",
    "print(optimized_GBM.best_params_)"
   ]
  },
  {
   "cell_type": "code",
   "execution_count": null,
   "metadata": {},
   "outputs": [],
   "source": [
    "from sklearn.metrics import accuracy_score\n",
    "y_pred = optimized_GBM.predict(X_test)\n",
    "print(\"#Mislabeled points (XGB) : {} out of {}\".format(sum(y_pred != y_test), len(y_test)))\n",
    "print(\"Model Accuray: {:.4f}\".format(accuracy_score(y_test, y_pred)))"
   ]
  },
  {
   "cell_type": "markdown",
   "metadata": {},
   "source": [
    "Neural Network"
   ]
  },
  {
   "cell_type": "code",
   "execution_count": null,
   "metadata": {},
   "outputs": [],
   "source": [
    "#data_train = pd.read_csv(\"data_train\", delimiter=\"\\t\", low_memory=False)"
   ]
  },
  {
   "cell_type": "code",
   "execution_count": null,
   "metadata": {},
   "outputs": [],
   "source": [
    "#data_train = data_train.set_index('ID RSSD')"
   ]
  },
  {
   "cell_type": "code",
   "execution_count": null,
   "metadata": {},
   "outputs": [],
   "source": [
    "data_train.head()"
   ]
  },
  {
   "cell_type": "code",
   "execution_count": null,
   "metadata": {},
   "outputs": [],
   "source": [
    "import tensorflow as tf\n",
    "from tensorflow.keras.models       import Sequential, load_model\n",
    "from tensorflow.keras.layers       import Dense,Dropout\n",
    "from tensorflow.keras.callbacks    import ModelCheckpoint, EarlyStopping,CSVLogger\n",
    "from tensorflow.keras.utils        import plot_model"
   ]
  },
  {
   "cell_type": "code",
   "execution_count": null,
   "metadata": {},
   "outputs": [],
   "source": [
    "msk = np.random.rand(len(data_train)) < 0.8\n",
    "train_set = data_train[msk]\n",
    "test_set = data_train[~msk]"
   ]
  },
  {
   "cell_type": "code",
   "execution_count": null,
   "metadata": {},
   "outputs": [],
   "source": [
    "X_train = train_set.drop(\"round_winner\", axis=1)\n",
    "X_test = test_set.drop(\"round_winner\", axis=1)\n",
    "y_train = train_set[\"round_winner\"]\n",
    "y_test = test_set[\"round_winner\"]"
   ]
  },
  {
   "cell_type": "code",
   "execution_count": null,
   "metadata": {},
   "outputs": [],
   "source": [
    "# Import `StandardScaler` from `sklearn.preprocessing`\n",
    "from sklearn.preprocessing import StandardScaler\n",
    "\n",
    "# Define the scaler \n",
    "scaler = StandardScaler().fit(X_train)\n",
    "\n",
    "# Scale the train set\n",
    "X_train = scaler.transform(X_train)\n",
    "\n",
    "# Scale the test set\n",
    "X_test = scaler.transform(X_test)"
   ]
  },
  {
   "cell_type": "code",
   "execution_count": null,
   "metadata": {},
   "outputs": [],
   "source": [
    "X_train = np.expand_dims(X_train, 2)"
   ]
  },
  {
   "cell_type": "code",
   "execution_count": null,
   "metadata": {},
   "outputs": [],
   "source": [
    "# Import `Sequential` from `keras.models`\n",
    "from tensorflow.keras.models import Sequential\n",
    "\n",
    "# Import `Dense` from `keras.layers`\n",
    "from tensorflow.keras.layers import Dense\n",
    "\n",
    "# Initialize the constructor\n",
    "model = Sequential()\n",
    "\n",
    "# Add an input layer \n",
    "model.add(Dense(12, activation='relu', input_shape=(20, 1)))\n",
    "\n",
    "# Add one hidden layer \n",
    "model.add(Dense(8, activation='relu'))\n",
    "\n",
    "# Add an output layer \n",
    "model.add(Dense(1, activation='sigmoid'))"
   ]
  },
  {
   "cell_type": "code",
   "execution_count": null,
   "metadata": {},
   "outputs": [],
   "source": [
    "model.compile(loss='binary_crossentropy',\n",
    "              optimizer='adam',\n",
    "              metrics=['accuracy'])\n",
    "                   \n",
    "model.fit(X_train, y_train, epochs=80, batch_size= 10, verbose=1)"
   ]
  },
  {
   "cell_type": "code",
   "execution_count": null,
   "metadata": {},
   "outputs": [],
   "source": [
    "train_acc = model.evaluate(X_train, y_train, verbose=1)\n",
    "test_acc = model.evaluate(X_test, y_test, verbose=1)\n",
    "print(train_acc)\n",
    "print(test_acc)"
   ]
  },
  {
   "cell_type": "code",
   "execution_count": null,
   "metadata": {},
   "outputs": [],
   "source": [
    "from sklearn.model_selection import KFold"
   ]
  },
  {
   "cell_type": "code",
   "execution_count": null,
   "metadata": {},
   "outputs": [],
   "source": [
    "kfold = KFold(3, True, 1)\n",
    "for train, test in kfold.split(data):\n",
    "\tprint('train: %s, test: %s' % (data[train], data[test]))"
   ]
  },
  {
   "cell_type": "code",
   "execution_count": null,
   "metadata": {},
   "outputs": [],
   "source": [
    "score = model.evaluate(X_test, y_test,verbose=1)\n",
    "\n",
    "print(score)"
   ]
  },
  {
   "cell_type": "code",
   "execution_count": null,
   "metadata": {},
   "outputs": [],
   "source": [
    "from sklearn.metrics import confusion_matrix, precision_score, recall_score, f1_score, cohen_kappa_score\n",
    "from keras import optimizers\n",
    "\n",
    "model = Sequential()\n",
    "model.add(Dense(12, kernel_initializer='uniform', input_shape=(20,)))\n",
    "model.add(Activation('softmax'))\n",
    "\n",
    "sgd = optimizers.SGD(lr=0.01, decay=1e-6, momentum=0.9, nesterov=True)\n",
    "model.compile(loss='mean_squared_error', optimizer=sgd)"
   ]
  },
  {
   "cell_type": "code",
   "execution_count": null,
   "metadata": {},
   "outputs": [],
   "source": [
    "from keras.optimizers import RMSprop\n",
    "rmsprop = RMSprop(lr=0.0001)\n",
    "model.compile(optimizer=rmsprop, loss='mse', metrics=['mae'])"
   ]
  },
  {
   "cell_type": "code",
   "execution_count": null,
   "metadata": {},
   "outputs": [],
   "source": [
    "from keras.layers import Activation, Dense"
   ]
  },
  {
   "cell_type": "code",
   "execution_count": null,
   "metadata": {},
   "outputs": [],
   "source": [
    "from keras import optimizers\n",
    "\n",
    "model = Sequential()\n",
    "model.add(Dense(64, kernel_initializer='uniform', input_shape=(10,)))\n",
    "model.add(Activation('softmax'))\n",
    "\n",
    "sgd = optimizers.SGD(lr=0.01, decay=1e-6, momentum=0.9, nesterov=True)\n",
    "model.compile(loss='mean_squared_error', optimizer=sgd)"
   ]
  },
  {
   "cell_type": "code",
   "execution_count": null,
   "metadata": {},
   "outputs": [],
   "source": [
    "from keras.models import Sequential\n",
    "\n",
    "# Import `Dense` from `keras.layers`\n",
    "from keras.layers import Dense\n",
    "\n",
    "# Initialize the constructor\n",
    "model = Sequential()\n",
    "\n",
    "# Add an input layer \n",
    "model.add(Dense(12, activation='relu', input_shape=(20,)))\n",
    "\n",
    "# Add one hidden layer \n",
    "model.add(Dense(8, activation='relu'))\n",
    "\n",
    "# Add an output layer \n",
    "model.add(Dense(1, activation='sigmoid'))"
   ]
  },
  {
   "cell_type": "code",
   "execution_count": null,
   "metadata": {},
   "outputs": [],
   "source": [
    "model.compile(loss='binary_crossentropy',\n",
    "              optimizer='adam',\n",
    "              metrics=['accuracy'])\n",
    "                   \n",
    "model.fit(X_train, y_train,epochs=20, batch_size=1, verbose=1)"
   ]
  },
  {
   "cell_type": "code",
   "execution_count": null,
   "metadata": {},
   "outputs": [],
   "source": []
  }
 ],
 "metadata": {
  "kernelspec": {
   "display_name": "Python 3",
   "language": "python",
   "name": "python3"
  },
  "language_info": {
   "codemirror_mode": {
    "name": "ipython",
    "version": 3
   },
   "file_extension": ".py",
   "mimetype": "text/x-python",
   "name": "python",
   "nbconvert_exporter": "python",
   "pygments_lexer": "ipython3",
   "version": "3.7.4"
  }
 },
 "nbformat": 4,
 "nbformat_minor": 2
}
